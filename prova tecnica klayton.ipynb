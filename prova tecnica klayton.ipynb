{
 "cells": [
  {
   "cell_type": "code",
   "execution_count": 1,
   "id": "c5489ef9",
   "metadata": {
    "scrolled": true
   },
   "outputs": [
    {
     "name": "stdout",
     "output_type": "stream",
     "text": [
      "No Warning Shown\n"
     ]
    }
   ],
   "source": [
    "import pandas as pd\n",
    "import numpy as np\n",
    "import seaborn as sns\n",
    "import matplotlib.pyplot as plt\n",
    "import statsmodels.api as sm\n",
    "import warnings\n",
    "from sklearn.model_selection import train_test_split\n",
    "from sklearn.linear_model import LinearRegression\n",
    "from sklearn import metrics\n",
    "from scipy.stats import normaltest\n",
    "from scipy.stats import mannwhitneyu\n",
    "warnings.filterwarnings('ignore')\n",
    "warnings.warn('DelftStack')\n",
    "warnings.warn('Do not show this message')\n",
    "print(\"No Warning Shown\")\n"
   ]
  },
  {
   "cell_type": "markdown",
   "id": "71c1b1e7",
   "metadata": {},
   "source": [
    "# <font color=red> Conhecendo o Projeto</font>"
   ]
  },
  {
   "cell_type": "markdown",
   "id": "d1e92742",
   "metadata": {},
   "source": [
    "## O Dataset e o Projeto\n",
    "<hr>\n",
    "\n",
    "### Descrição:\n",
    "<p style='font-size: 18px; line-height: 2; margin: 10px 50px; text-align: justify; text-indent: 35px;'>\n",
    "    \n",
    "Projeto Data Science - DataVis\n",
    "\n",
    "Suponha que você recebeu o seguinte e-mail de um cliente cuja empresa atua no\n",
    "setor de móveis e toda a receita é proveniente das vendas online:\n",
    "\n",
    "Bom dia, tudo bem?\n",
    "\n",
    "Temos o nosso site de vendas e criamos o blog com conteúdo há\n",
    "aproximadamente 3 meses atrás. Com o nosso time de BI nós conseguimos\n",
    "mapear algumas métricas:\n",
    "\n",
    "● Data;\n",
    "\n",
    "● O número total de pessoas que acessaram o blog por dia;\n",
    "\n",
    "● O número de pessoas que acessaram o site e não passaram pelo blog\n",
    "por dia;\n",
    "\n",
    "● O número total de compras de pessoas que passaram pelo blog por dia;\n",
    "\n",
    "● O número total de compras de pessoas que não passaram pelo blog por\n",
    "dia;\n",
    "\n",
    "● Receita das compras que passaram ou não pelo blog por dia receita.\n",
    "\n",
    "\n",
    "Queremos entender qual é a influência de um blog da nossa marca para\n",
    "que as pessoas venham a comprar nossos produtos em algum momento. Seria\n",
    "possível realizar uma análise?\n",
    "Peço que me envie um relatório com gráficos e tabelas que mostre as\n",
    "informações de maneira organizada e que auxilie as decisões que tomaremos\n",
    "neste ano a respeito do blog, além das conclusões que conseguirem tirar.\n",
    "Esse relatório será analisado em uma reunião com todos os diretores da\n",
    "empresa. Peço que o design seja levado em consideração.\n",
    "Posso contar com você?.</p>\n",
    "\n",
    "<p style='font-size: 18px; line-height: 2; margin: 10px 50px; text-align: justify; text-indent: 35px;'>\n",
    "\n",
    "Neste contexto o objetivo principal do nosso projeto \n",
    "\n",
    "1) Construir um relatório ou dashboard\n",
    "    \n",
    "Os dados necessários para a construção da dashboard se encontram anexos ao e-mail\n",
    "em um arquivo CSV. Fique à vontade para utilizar a ferramenta que achar mais\n",
    "conveniente.\n",
    "    \n",
    "Algumas sugestões de ferramentas:\n",
    "\n",
    "● Google Data Studio\n",
    "\n",
    "● Google Sheets\n",
    "\n",
    "● Python\n",
    "\n",
    "● R\n",
    "    \n",
    "    \n",
    "Abaixo há algumas abordagens que serão consideradas um diferencial. Não tem\n",
    "problema se você não teve experiências prévias com essas metodologias, o importante\n",
    "é você se desafiar e tentar aplicar na análise. Estes materiais irão te auxiliar e não é\n",
    "necessário aplicar todas as técnicas abaixo:\n",
    "\n",
    "● Análises com embasamento estatístico, utilizando teste de hipóteses ou\n",
    "correlação.\n",
    "\n",
    "● Utilizar métodos de aprendizado de máquina, como regressão, séries temporais\n",
    "ou outro que julgar adequado.\n",
    "\n",
    "● Descreva os pressupostos e o passo a passo para chegar à sua conclusão,\n",
    "lembre-se de citar as técnicas utilizadas e sob quais condições você poderia\n",
    "utilizá-las ou não.\n",
    "    \n",
    "Não esqueça de dar permissão para que qualquer pessoa com o link possa visualizar a\n",
    "dashboard. Caso esteja utilizando alguma das ferramentas sugeridas, basta ir em\n",
    "Compartilhar -> Avançado -> Alterar -> Ativado: Qualquer Pessoa com o Link -> Salvar</p>\n",
    "\n",
    "\n",
    "\n"
   ]
  },
  {
   "cell_type": "markdown",
   "id": "a31c3ffd",
   "metadata": {},
   "source": [
    "\n",
    "# <font color=red> Conhecendo o Dataset</font>\n",
    "\n",
    "\n"
   ]
  },
  {
   "cell_type": "markdown",
   "id": "3571e42b",
   "metadata": {},
   "source": [
    "## Leitura dos dados e Análises preliminares"
   ]
  },
  {
   "cell_type": "code",
   "execution_count": 2,
   "id": "67a68317",
   "metadata": {},
   "outputs": [],
   "source": [
    "dados = pd.read_csv('psel.csv')"
   ]
  },
  {
   "cell_type": "code",
   "execution_count": 3,
   "id": "641cee6a",
   "metadata": {
    "scrolled": true
   },
   "outputs": [
    {
     "data": {
      "text/html": [
       "<div>\n",
       "<style scoped>\n",
       "    .dataframe tbody tr th:only-of-type {\n",
       "        vertical-align: middle;\n",
       "    }\n",
       "\n",
       "    .dataframe tbody tr th {\n",
       "        vertical-align: top;\n",
       "    }\n",
       "\n",
       "    .dataframe thead th {\n",
       "        text-align: right;\n",
       "    }\n",
       "</style>\n",
       "<table border=\"1\" class=\"dataframe\">\n",
       "  <thead>\n",
       "    <tr style=\"text-align: right;\">\n",
       "      <th></th>\n",
       "      <th>data</th>\n",
       "      <th>receita</th>\n",
       "      <th>transacoes_blog</th>\n",
       "      <th>transacoes_site</th>\n",
       "      <th>usuarios_blog</th>\n",
       "      <th>usuarios_site</th>\n",
       "    </tr>\n",
       "  </thead>\n",
       "  <tbody>\n",
       "    <tr>\n",
       "      <th>0</th>\n",
       "      <td>2019-01-01</td>\n",
       "      <td>349184</td>\n",
       "      <td>0</td>\n",
       "      <td>4693</td>\n",
       "      <td>0</td>\n",
       "      <td>46739</td>\n",
       "    </tr>\n",
       "    <tr>\n",
       "      <th>1</th>\n",
       "      <td>2019-01-02</td>\n",
       "      <td>867328</td>\n",
       "      <td>0</td>\n",
       "      <td>8501</td>\n",
       "      <td>0</td>\n",
       "      <td>83129</td>\n",
       "    </tr>\n",
       "    <tr>\n",
       "      <th>2</th>\n",
       "      <td>2019-01-03</td>\n",
       "      <td>758590</td>\n",
       "      <td>0</td>\n",
       "      <td>9375</td>\n",
       "      <td>0</td>\n",
       "      <td>86067</td>\n",
       "    </tr>\n",
       "    <tr>\n",
       "      <th>3</th>\n",
       "      <td>2019-01-04</td>\n",
       "      <td>688873</td>\n",
       "      <td>0</td>\n",
       "      <td>8405</td>\n",
       "      <td>0</td>\n",
       "      <td>69363</td>\n",
       "    </tr>\n",
       "    <tr>\n",
       "      <th>4</th>\n",
       "      <td>2019-01-05</td>\n",
       "      <td>441760</td>\n",
       "      <td>0</td>\n",
       "      <td>6136</td>\n",
       "      <td>0</td>\n",
       "      <td>56183</td>\n",
       "    </tr>\n",
       "  </tbody>\n",
       "</table>\n",
       "</div>"
      ],
      "text/plain": [
       "         data  receita  transacoes_blog  transacoes_site  usuarios_blog  \\\n",
       "0  2019-01-01   349184                0             4693              0   \n",
       "1  2019-01-02   867328                0             8501              0   \n",
       "2  2019-01-03   758590                0             9375              0   \n",
       "3  2019-01-04   688873                0             8405              0   \n",
       "4  2019-01-05   441760                0             6136              0   \n",
       "\n",
       "   usuarios_site  \n",
       "0          46739  \n",
       "1          83129  \n",
       "2          86067  \n",
       "3          69363  \n",
       "4          56183  "
      ]
     },
     "execution_count": 3,
     "metadata": {},
     "output_type": "execute_result"
    }
   ],
   "source": [
    "dados.head()"
   ]
  },
  {
   "cell_type": "code",
   "execution_count": 4,
   "id": "58708bde",
   "metadata": {},
   "outputs": [
    {
     "data": {
      "text/plain": [
       "(639, 6)"
      ]
     },
     "execution_count": 4,
     "metadata": {},
     "output_type": "execute_result"
    }
   ],
   "source": [
    "dados.shape"
   ]
  },
  {
   "cell_type": "code",
   "execution_count": 5,
   "id": "6de81b06",
   "metadata": {},
   "outputs": [
    {
     "data": {
      "text/plain": [
       "0"
      ]
     },
     "execution_count": 5,
     "metadata": {},
     "output_type": "execute_result"
    }
   ],
   "source": [
    "dados.isna().sum().sum()"
   ]
  },
  {
   "cell_type": "code",
   "execution_count": 6,
   "id": "9a306b37",
   "metadata": {},
   "outputs": [
    {
     "data": {
      "text/plain": [
       "data               object\n",
       "receita             int64\n",
       "transacoes_blog     int64\n",
       "transacoes_site     int64\n",
       "usuarios_blog       int64\n",
       "usuarios_site       int64\n",
       "dtype: object"
      ]
     },
     "execution_count": 6,
     "metadata": {},
     "output_type": "execute_result"
    }
   ],
   "source": [
    "dados.dtypes"
   ]
  },
  {
   "cell_type": "markdown",
   "id": "201ccd48",
   "metadata": {},
   "source": [
    "## Estatísticas descritivas"
   ]
  },
  {
   "cell_type": "code",
   "execution_count": 7,
   "id": "043a78a7",
   "metadata": {},
   "outputs": [
    {
     "data": {
      "text/html": [
       "<div>\n",
       "<style scoped>\n",
       "    .dataframe tbody tr th:only-of-type {\n",
       "        vertical-align: middle;\n",
       "    }\n",
       "\n",
       "    .dataframe tbody tr th {\n",
       "        vertical-align: top;\n",
       "    }\n",
       "\n",
       "    .dataframe thead th {\n",
       "        text-align: right;\n",
       "    }\n",
       "</style>\n",
       "<table border=\"1\" class=\"dataframe\">\n",
       "  <thead>\n",
       "    <tr style=\"text-align: right;\">\n",
       "      <th></th>\n",
       "      <th>receita</th>\n",
       "      <th>transacoes_blog</th>\n",
       "      <th>transacoes_site</th>\n",
       "      <th>usuarios_blog</th>\n",
       "      <th>usuarios_site</th>\n",
       "    </tr>\n",
       "  </thead>\n",
       "  <tbody>\n",
       "    <tr>\n",
       "      <th>count</th>\n",
       "      <td>639.00</td>\n",
       "      <td>639.00</td>\n",
       "      <td>639.00</td>\n",
       "      <td>639.00</td>\n",
       "      <td>639.00</td>\n",
       "    </tr>\n",
       "    <tr>\n",
       "      <th>mean</th>\n",
       "      <td>1623891.19</td>\n",
       "      <td>528.35</td>\n",
       "      <td>19039.14</td>\n",
       "      <td>1439.85</td>\n",
       "      <td>101610.49</td>\n",
       "    </tr>\n",
       "    <tr>\n",
       "      <th>std</th>\n",
       "      <td>1160581.16</td>\n",
       "      <td>1201.78</td>\n",
       "      <td>13677.73</td>\n",
       "      <td>3369.87</td>\n",
       "      <td>37240.23</td>\n",
       "    </tr>\n",
       "    <tr>\n",
       "      <th>min</th>\n",
       "      <td>32085.00</td>\n",
       "      <td>0.00</td>\n",
       "      <td>3557.00</td>\n",
       "      <td>0.00</td>\n",
       "      <td>26298.00</td>\n",
       "    </tr>\n",
       "    <tr>\n",
       "      <th>25%</th>\n",
       "      <td>807342.00</td>\n",
       "      <td>0.00</td>\n",
       "      <td>11013.00</td>\n",
       "      <td>0.00</td>\n",
       "      <td>77727.00</td>\n",
       "    </tr>\n",
       "    <tr>\n",
       "      <th>50%</th>\n",
       "      <td>1263161.00</td>\n",
       "      <td>0.00</td>\n",
       "      <td>16069.00</td>\n",
       "      <td>0.00</td>\n",
       "      <td>96104.00</td>\n",
       "    </tr>\n",
       "    <tr>\n",
       "      <th>75%</th>\n",
       "      <td>2232769.50</td>\n",
       "      <td>0.00</td>\n",
       "      <td>22606.50</td>\n",
       "      <td>0.00</td>\n",
       "      <td>117586.50</td>\n",
       "    </tr>\n",
       "    <tr>\n",
       "      <th>max</th>\n",
       "      <td>12266844.00</td>\n",
       "      <td>5586.00</td>\n",
       "      <td>188955.00</td>\n",
       "      <td>13059.00</td>\n",
       "      <td>369989.00</td>\n",
       "    </tr>\n",
       "  </tbody>\n",
       "</table>\n",
       "</div>"
      ],
      "text/plain": [
       "           receita  transacoes_blog  transacoes_site  usuarios_blog  \\\n",
       "count       639.00           639.00           639.00         639.00   \n",
       "mean    1623891.19           528.35         19039.14        1439.85   \n",
       "std     1160581.16          1201.78         13677.73        3369.87   \n",
       "min       32085.00             0.00          3557.00           0.00   \n",
       "25%      807342.00             0.00         11013.00           0.00   \n",
       "50%     1263161.00             0.00         16069.00           0.00   \n",
       "75%     2232769.50             0.00         22606.50           0.00   \n",
       "max    12266844.00          5586.00        188955.00       13059.00   \n",
       "\n",
       "       usuarios_site  \n",
       "count         639.00  \n",
       "mean       101610.49  \n",
       "std         37240.23  \n",
       "min         26298.00  \n",
       "25%         77727.00  \n",
       "50%         96104.00  \n",
       "75%        117586.50  \n",
       "max        369989.00  "
      ]
     },
     "execution_count": 7,
     "metadata": {},
     "output_type": "execute_result"
    }
   ],
   "source": [
    "dados.describe().round(2)"
   ]
  },
  {
   "cell_type": "markdown",
   "id": "54390d4a",
   "metadata": {},
   "source": [
    "### Matriz de correlação"
   ]
  },
  {
   "cell_type": "markdown",
   "id": "520a6b04",
   "metadata": {},
   "source": [
    " O coeficiente de correlação é uma medida de associação linear entre duas variáveis e situa-se entre -1 e +1 sendo que -1 indica associação negativa perfeita e +1 indica associação positiva perfeita.\n",
    " A análise correlacional indica a relação entre 2 variáveis lineares e os valores sempre serão entre +1 e -1. O sinal indica a direção, se a correlação é positiva ou negativa, e o tamanho da variavel indica a força da correlação.\n",
    "\n",
    " Cabe observar que, como o coeficiente é concebido a partir do ajuste linear, então a fórmula não contém informações do ajuste, ou seja, é composta apenas dos dados."
   ]
  },
  {
   "cell_type": "code",
   "execution_count": 8,
   "id": "66037e6c",
   "metadata": {},
   "outputs": [
    {
     "data": {
      "text/html": [
       "<div>\n",
       "<style scoped>\n",
       "    .dataframe tbody tr th:only-of-type {\n",
       "        vertical-align: middle;\n",
       "    }\n",
       "\n",
       "    .dataframe tbody tr th {\n",
       "        vertical-align: top;\n",
       "    }\n",
       "\n",
       "    .dataframe thead th {\n",
       "        text-align: right;\n",
       "    }\n",
       "</style>\n",
       "<table border=\"1\" class=\"dataframe\">\n",
       "  <thead>\n",
       "    <tr style=\"text-align: right;\">\n",
       "      <th></th>\n",
       "      <th>receita</th>\n",
       "      <th>transacoes_blog</th>\n",
       "      <th>transacoes_site</th>\n",
       "      <th>usuarios_blog</th>\n",
       "      <th>usuarios_site</th>\n",
       "    </tr>\n",
       "  </thead>\n",
       "  <tbody>\n",
       "    <tr>\n",
       "      <th>receita</th>\n",
       "      <td>1.0000</td>\n",
       "      <td>0.5317</td>\n",
       "      <td>0.8126</td>\n",
       "      <td>0.5180</td>\n",
       "      <td>0.7112</td>\n",
       "    </tr>\n",
       "    <tr>\n",
       "      <th>transacoes_blog</th>\n",
       "      <td>0.5317</td>\n",
       "      <td>1.0000</td>\n",
       "      <td>0.0689</td>\n",
       "      <td>0.8933</td>\n",
       "      <td>0.1623</td>\n",
       "    </tr>\n",
       "    <tr>\n",
       "      <th>transacoes_site</th>\n",
       "      <td>0.8126</td>\n",
       "      <td>0.0689</td>\n",
       "      <td>1.0000</td>\n",
       "      <td>0.0543</td>\n",
       "      <td>0.8200</td>\n",
       "    </tr>\n",
       "    <tr>\n",
       "      <th>usuarios_blog</th>\n",
       "      <td>0.5180</td>\n",
       "      <td>0.8933</td>\n",
       "      <td>0.0543</td>\n",
       "      <td>1.0000</td>\n",
       "      <td>0.1518</td>\n",
       "    </tr>\n",
       "    <tr>\n",
       "      <th>usuarios_site</th>\n",
       "      <td>0.7112</td>\n",
       "      <td>0.1623</td>\n",
       "      <td>0.8200</td>\n",
       "      <td>0.1518</td>\n",
       "      <td>1.0000</td>\n",
       "    </tr>\n",
       "  </tbody>\n",
       "</table>\n",
       "</div>"
      ],
      "text/plain": [
       "                 receita  transacoes_blog  transacoes_site  usuarios_blog  \\\n",
       "receita           1.0000           0.5317           0.8126         0.5180   \n",
       "transacoes_blog   0.5317           1.0000           0.0689         0.8933   \n",
       "transacoes_site   0.8126           0.0689           1.0000         0.0543   \n",
       "usuarios_blog     0.5180           0.8933           0.0543         1.0000   \n",
       "usuarios_site     0.7112           0.1623           0.8200         0.1518   \n",
       "\n",
       "                 usuarios_site  \n",
       "receita                 0.7112  \n",
       "transacoes_blog         0.1623  \n",
       "transacoes_site         0.8200  \n",
       "usuarios_blog           0.1518  \n",
       "usuarios_site           1.0000  "
      ]
     },
     "execution_count": 8,
     "metadata": {},
     "output_type": "execute_result"
    }
   ],
   "source": [
    "dados.corr().round(4)"
   ]
  },
  {
   "cell_type": "code",
   "execution_count": 9,
   "id": "a1da9611",
   "metadata": {
    "scrolled": true
   },
   "outputs": [
    {
     "data": {
      "text/plain": [
       "<AxesSubplot:>"
      ]
     },
     "execution_count": 9,
     "metadata": {},
     "output_type": "execute_result"
    },
    {
     "data": {
      "image/png": "[encoded data removed]",
      "text/plain": [
       "<Figure size 720x360 with 2 Axes>"
      ]
     },
     "metadata": {
      "needs_background": "light"
     },
     "output_type": "display_data"
    }
   ],
   "source": [
    "plt.figure(figsize=(10, 5))\n",
    "sns.heatmap(dados.corr(), annot=True, cmap='Greens')"
   ]
  },
  {
   "cell_type": "markdown",
   "id": "3fb9b6f3",
   "metadata": {},
   "source": [
    "## Interpretando o coeficiente de Pearson"
   ]
  },
  {
   "cell_type": "markdown",
   "id": "5058d1c5",
   "metadata": {},
   "source": [
    " \n",
    "#### 0.9 para mais ou para menos indica uma correlação muito forte.\n",
    "#### 0.7 a 0.9 positivo ou negativo indica uma correlação forte.\n",
    "#### 0.5 a 0.7 positivo ou negativo indica uma correlação moderada.\n",
    "#### 0.3 a 0.5 positivo ou negativo indica uma correlação fraca.\n",
    "#### 0 a 0.3 positivo ou negativo indica uma correlação desprezível."
   ]
  },
  {
   "cell_type": "markdown",
   "id": "fc0ac03b",
   "metadata": {},
   "source": [
    "\n",
    "\n"
   ]
  },
  {
   "cell_type": "markdown",
   "id": "941a6e7e",
   "metadata": {},
   "source": [
    "# <font color=red> Boxplot, Distribuição de frequência e Comportamento da variável Dependente Receita</font>\n",
    "\n"
   ]
  },
  {
   "cell_type": "code",
   "execution_count": 67,
   "id": "e9a943f8",
   "metadata": {},
   "outputs": [
    {
     "data": {
      "image/png": "[encoded data removed]",
      "text/plain": [
       "<Figure size 864x432 with 1 Axes>"
      ]
     },
     "metadata": {},
     "output_type": "display_data"
    }
   ],
   "source": [
    "ax = sns.distplot(dados['receita'])\n",
    "ax.figure.set_size_inches(12, 6)\n",
    "ax.set_title('Distribuição de Frequências', fontsize=20)\n",
    "ax.set_xlabel(' Receita', fontsize=16)\n",
    "ax = ax"
   ]
  },
  {
   "cell_type": "markdown",
   "id": "9bae5773",
   "metadata": {},
   "source": [
    "## Box plot da variável *dependente* (y)"
   ]
  },
  {
   "cell_type": "code",
   "execution_count": 10,
   "id": "71ca5738",
   "metadata": {},
   "outputs": [],
   "source": [
    "sns.set_palette(\"Accent\")\n",
    "sns.set_style(\"darkgrid\")"
   ]
  },
  {
   "cell_type": "code",
   "execution_count": 11,
   "id": "f19b5649",
   "metadata": {
    "scrolled": true
   },
   "outputs": [
    {
     "data": {
      "image/png": "[encoded data removed]",
      "text/plain": [
       "<Figure size 1440x360 with 1 Axes>"
      ]
     },
     "metadata": {},
     "output_type": "display_data"
    }
   ],
   "source": [
    "ax = sns.boxplot(data=dados['receita'], orient='h', width=0.3)\n",
    "ax.figure.set_size_inches(20, 5)\n",
    "ax.set_title('Receita', fontsize=20)\n",
    "ax.set_xlabel('Reais', fontsize=16)\n",
    "ax = ax"
   ]
  },
  {
   "cell_type": "markdown",
   "id": "bf1cfaa2",
   "metadata": {},
   "source": [
    "## Distribuição de frequências da variável *dependente* (y)"
   ]
  },
  {
   "cell_type": "markdown",
   "id": "d3e4920b",
   "metadata": {},
   "source": [
    " Com auxílio do boxplot e da distribuição de frequência, foi identificado a assimetria a direita do dado  analisando,  pois  existe uma maior concentração de valores na zona de valores mais reduzidos da amostra."
   ]
  },
  {
   "cell_type": "markdown",
   "id": "1f878a81",
   "metadata": {},
   "source": [
    "No boxplot analisado, há um grupo de pessoas que efetuam compras muito acima do comportamento geral da base de dados, e isso aumenta de certa forma a variabilidade , porém, para esse estudo em especial, não achei condizente retirar os dados e analisa-los a parte. Para diminuir o impacto, antes de rodar o modelo normalizei com transformação logarítmica e no final da modelagem reverti a transformação para me dar o valor real."
   ]
  },
  {
   "cell_type": "markdown",
   "id": "8341b172",
   "metadata": {},
   "source": [
    "# <font color=red> Dispersão Entre as Variáveis do Dataset</font>\n",
    "\n",
    "\n",
    "#### Identificação se a variável dependente e as variáveis explicativas possuem alguma relação linear. "
   ]
  },
  {
   "cell_type": "code",
   "execution_count": 12,
   "id": "50606dc3",
   "metadata": {
    "scrolled": true
   },
   "outputs": [
    {
     "data": {
      "image/png": "[encoded data removed]",
      "text/plain": [
       "<Figure size 864x216 with 4 Axes>"
      ]
     },
     "metadata": {},
     "output_type": "display_data"
    }
   ],
   "source": [
    "ax = sns.pairplot(dados, y_vars='receita', x_vars=['transacoes_blog', 'transacoes_site', 'usuarios_blog', 'usuarios_site'], height=3)\n",
    "ax.fig.suptitle('Dispersão entre as Variáveis', fontsize=20, y=1.05)\n",
    "ax = ax"
   ]
  },
  {
   "cell_type": "code",
   "execution_count": 13,
   "id": "6242933e",
   "metadata": {
    "scrolled": true
   },
   "outputs": [
    {
     "data": {
      "image/png": "[encoded data removed]",
      "text/plain": [
       "<Figure size 1152x288 with 4 Axes>"
      ]
     },
     "metadata": {},
     "output_type": "display_data"
    }
   ],
   "source": [
    "ax = sns.pairplot(dados, y_vars='receita', x_vars=['transacoes_blog', 'transacoes_site', 'usuarios_blog', 'usuarios_site'],kind = 'reg', height=4)\n",
    "ax.fig.suptitle('Dispersão entre as Variáveis', fontsize=20, y=1.05)\n",
    "ax = ax"
   ]
  },
  {
   "cell_type": "markdown",
   "id": "050db8a6",
   "metadata": {},
   "source": [
    "#### Visualmente nossa variável receita possue uma relação linear com as outras variáveis do nosso dataset, como demonstrado no gráfico de dispersão entre as variáveis, algumas com uma relação mais forte e outras com uma relação mais discreta."
   ]
  },
  {
   "cell_type": "markdown",
   "id": "3843284f",
   "metadata": {},
   "source": [
    "# <font color=red> Transformando os Dados para tentar corrigir a assimetria da variável receita</font>\n",
    "\n"
   ]
  },
  {
   "cell_type": "markdown",
   "id": "25cb86a1",
   "metadata": {},
   "source": [
    "### Por quê?\n",
    "\n"
   ]
  },
  {
   "cell_type": "markdown",
   "id": "00809498",
   "metadata": {},
   "source": [
    " Testes paramétricos assumem que os dados amostrais foram coletados de uma população com distribuição de probabilidade conhecida. Boa parte dos testes estatísticos assumem que os dados seguem uma distribuição normal (t de Student, intervalos de confiança etc.)."
   ]
  },
  {
   "cell_type": "markdown",
   "id": "525657ca",
   "metadata": {},
   "source": [
    "Descobrimos que a variável dependente que estamos analisando é assimétrica à direita então utilizarei uma técnica de transformação de variável para tentar corrigir esse problema e, quem sabe, estimar um modelo de regressão linear com essa base de dados, após a transformação."
   ]
  },
  {
   "cell_type": "markdown",
   "id": "c8138235",
   "metadata": {},
   "source": [
    "## Aplicando a transformação logarítmica aos dados do dataset\n",
    "\n"
   ]
  },
  {
   "cell_type": "markdown",
   "id": "6b927164",
   "metadata": {},
   "source": [
    " A transformação logarítmica é frequentemente usada quando os dados têm uma distribuição distorcida positivamente e existem alguns valores grandes. Então irei usar a transformação de log para tornar as variações mais constantes e normalizar os dados."
   ]
  },
  {
   "cell_type": "code",
   "execution_count": 14,
   "id": "f2d5bdcc",
   "metadata": {},
   "outputs": [],
   "source": [
    "dados['log_receita'] = np.log(dados['receita'])\n",
    "dados['log_usuarios_site'] = np.log(dados['usuarios_site'] )\n",
    "dados['log_transacoes_site'] = np.log(dados['transacoes_site'] )\n",
    "dados['log_transacoes_blog'] = np.log(dados['transacoes_blog']+1)\n",
    "dados['log_usuarios_blog'] = np.log(dados['usuarios_blog'] + 1)\n"
   ]
  },
  {
   "cell_type": "code",
   "execution_count": 15,
   "id": "8f68356c",
   "metadata": {},
   "outputs": [
    {
     "data": {
      "text/html": [
       "<div>\n",
       "<style scoped>\n",
       "    .dataframe tbody tr th:only-of-type {\n",
       "        vertical-align: middle;\n",
       "    }\n",
       "\n",
       "    .dataframe tbody tr th {\n",
       "        vertical-align: top;\n",
       "    }\n",
       "\n",
       "    .dataframe thead th {\n",
       "        text-align: right;\n",
       "    }\n",
       "</style>\n",
       "<table border=\"1\" class=\"dataframe\">\n",
       "  <thead>\n",
       "    <tr style=\"text-align: right;\">\n",
       "      <th></th>\n",
       "      <th>data</th>\n",
       "      <th>receita</th>\n",
       "      <th>transacoes_blog</th>\n",
       "      <th>transacoes_site</th>\n",
       "      <th>usuarios_blog</th>\n",
       "      <th>usuarios_site</th>\n",
       "      <th>log_receita</th>\n",
       "      <th>log_usuarios_site</th>\n",
       "      <th>log_transacoes_site</th>\n",
       "      <th>log_transacoes_blog</th>\n",
       "      <th>log_usuarios_blog</th>\n",
       "    </tr>\n",
       "  </thead>\n",
       "  <tbody>\n",
       "    <tr>\n",
       "      <th>0</th>\n",
       "      <td>2019-01-01</td>\n",
       "      <td>349184</td>\n",
       "      <td>0</td>\n",
       "      <td>4693</td>\n",
       "      <td>0</td>\n",
       "      <td>46739</td>\n",
       "      <td>12.763354</td>\n",
       "      <td>10.752334</td>\n",
       "      <td>8.453827</td>\n",
       "      <td>0.0</td>\n",
       "      <td>0.0</td>\n",
       "    </tr>\n",
       "    <tr>\n",
       "      <th>1</th>\n",
       "      <td>2019-01-02</td>\n",
       "      <td>867328</td>\n",
       "      <td>0</td>\n",
       "      <td>8501</td>\n",
       "      <td>0</td>\n",
       "      <td>83129</td>\n",
       "      <td>13.673173</td>\n",
       "      <td>11.328149</td>\n",
       "      <td>9.047939</td>\n",
       "      <td>0.0</td>\n",
       "      <td>0.0</td>\n",
       "    </tr>\n",
       "    <tr>\n",
       "      <th>2</th>\n",
       "      <td>2019-01-03</td>\n",
       "      <td>758590</td>\n",
       "      <td>0</td>\n",
       "      <td>9375</td>\n",
       "      <td>0</td>\n",
       "      <td>86067</td>\n",
       "      <td>13.539217</td>\n",
       "      <td>11.362881</td>\n",
       "      <td>9.145802</td>\n",
       "      <td>0.0</td>\n",
       "      <td>0.0</td>\n",
       "    </tr>\n",
       "    <tr>\n",
       "      <th>3</th>\n",
       "      <td>2019-01-04</td>\n",
       "      <td>688873</td>\n",
       "      <td>0</td>\n",
       "      <td>8405</td>\n",
       "      <td>0</td>\n",
       "      <td>69363</td>\n",
       "      <td>13.442812</td>\n",
       "      <td>11.147109</td>\n",
       "      <td>9.036582</td>\n",
       "      <td>0.0</td>\n",
       "      <td>0.0</td>\n",
       "    </tr>\n",
       "    <tr>\n",
       "      <th>4</th>\n",
       "      <td>2019-01-05</td>\n",
       "      <td>441760</td>\n",
       "      <td>0</td>\n",
       "      <td>6136</td>\n",
       "      <td>0</td>\n",
       "      <td>56183</td>\n",
       "      <td>12.998522</td>\n",
       "      <td>10.936369</td>\n",
       "      <td>8.721928</td>\n",
       "      <td>0.0</td>\n",
       "      <td>0.0</td>\n",
       "    </tr>\n",
       "  </tbody>\n",
       "</table>\n",
       "</div>"
      ],
      "text/plain": [
       "         data  receita  transacoes_blog  transacoes_site  usuarios_blog  \\\n",
       "0  2019-01-01   349184                0             4693              0   \n",
       "1  2019-01-02   867328                0             8501              0   \n",
       "2  2019-01-03   758590                0             9375              0   \n",
       "3  2019-01-04   688873                0             8405              0   \n",
       "4  2019-01-05   441760                0             6136              0   \n",
       "\n",
       "   usuarios_site  log_receita  log_usuarios_site  log_transacoes_site  \\\n",
       "0          46739    12.763354          10.752334             8.453827   \n",
       "1          83129    13.673173          11.328149             9.047939   \n",
       "2          86067    13.539217          11.362881             9.145802   \n",
       "3          69363    13.442812          11.147109             9.036582   \n",
       "4          56183    12.998522          10.936369             8.721928   \n",
       "\n",
       "   log_transacoes_blog  log_usuarios_blog  \n",
       "0                  0.0                0.0  \n",
       "1                  0.0                0.0  \n",
       "2                  0.0                0.0  \n",
       "3                  0.0                0.0  \n",
       "4                  0.0                0.0  "
      ]
     },
     "execution_count": 15,
     "metadata": {},
     "output_type": "execute_result"
    }
   ],
   "source": [
    "dados.head()"
   ]
  },
  {
   "cell_type": "markdown",
   "id": "ec6a123e",
   "metadata": {},
   "source": [
    "## Distribuição de frequências da variável *dependente transformada* (y)"
   ]
  },
  {
   "cell_type": "code",
   "execution_count": 16,
   "id": "df442d95",
   "metadata": {
    "scrolled": false
   },
   "outputs": [
    {
     "data": {
      "image/png": "[encoded data removed]",
      "text/plain": [
       "<Figure size 864x432 with 1 Axes>"
      ]
     },
     "metadata": {},
     "output_type": "display_data"
    }
   ],
   "source": [
    "ax = sns.distplot(dados['log_receita'])\n",
    "ax.figure.set_size_inches(12, 6)\n",
    "ax.set_title('Distribuição de Frequências', fontsize=20)\n",
    "ax.set_xlabel('log do Receita', fontsize=16)\n",
    "ax = ax"
   ]
  },
  {
   "cell_type": "markdown",
   "id": "76c87718",
   "metadata": {},
   "source": [
    "Ápos a transformação logaritima a assimetria da variável receita assumiu uma forma mais normalizada."
   ]
  },
  {
   "cell_type": "markdown",
   "id": "83a393b6",
   "metadata": {},
   "source": [
    "### Gráficos de dispersão entre as variáveis transformadas do dataset"
   ]
  },
  {
   "cell_type": "code",
   "execution_count": 17,
   "id": "203eca16",
   "metadata": {
    "scrolled": true
   },
   "outputs": [
    {
     "data": {
      "image/png": "[encoded data removed]",
      "text/plain": [
       "<Figure size 864x216 with 4 Axes>"
      ]
     },
     "metadata": {},
     "output_type": "display_data"
    }
   ],
   "source": [
    "ax = sns.pairplot(dados, y_vars='log_receita', x_vars=['log_transacoes_blog', 'log_usuarios_blog', 'log_transacoes_site', 'log_usuarios_site'], height=3)\n",
    "ax.fig.suptitle('Dispersão entre as Variáveis Transformadas', fontsize=20, y=1.05)\n",
    "ax = ax"
   ]
  },
  {
   "cell_type": "markdown",
   "id": "8eb5edf8",
   "metadata": {},
   "source": [
    "## <font color=red> Verificando Relação Linear</font>\n",
    "\n",
    "\n"
   ]
  },
  {
   "cell_type": "markdown",
   "id": "11947d2d",
   "metadata": {},
   "source": [
    " Como os dados relativos ao blog são somente dos ultimos 3 meses por esse motivo no grafico de dispersao das variaveis transformadas eles estao em clusters no canto superior direito."
   ]
  },
  {
   "cell_type": "markdown",
   "id": "4cc203dd",
   "metadata": {},
   "source": [
    "# <font color=red> Regressão Linear</font>\n",
    "\n",
    "\n"
   ]
  },
  {
   "cell_type": "markdown",
   "id": "fc94b825",
   "metadata": {},
   "source": [
    " A análise de regressão diz respeito ao estudo da dependência de uma variável (a variável dependente) em relação a uma ou mais variáveis, as variáveis explanatórias, visando estimar e/ou prever o valor médio da primeira em termos dos valores conhecidos ou fixados das segundas."
   ]
  },
  {
   "cell_type": "markdown",
   "id": "2d6e7185",
   "metadata": {},
   "source": [
    "## <font color=red> Criando os *Datasets* de Treino e Teste</font>\n",
    "\n"
   ]
  },
  {
   "cell_type": "markdown",
   "id": "d5dcf877",
   "metadata": {},
   "source": [
    "## Criando uma Series (pandas) para armazenar o a receita (y)"
   ]
  },
  {
   "cell_type": "code",
   "execution_count": 18,
   "id": "e5d347ee",
   "metadata": {},
   "outputs": [],
   "source": [
    "y = dados['log_receita']"
   ]
  },
  {
   "cell_type": "markdown",
   "id": "99e3fc3f",
   "metadata": {},
   "source": [
    "## Criando um DataFrame (pandas) para armazenar as variáveis explicativas (X)"
   ]
  },
  {
   "cell_type": "code",
   "execution_count": 19,
   "id": "fd7decf3",
   "metadata": {},
   "outputs": [],
   "source": [
    "X = dados[['log_transacoes_blog','log_usuarios_blog', 'log_transacoes_site', 'log_usuarios_site']]"
   ]
  },
  {
   "cell_type": "markdown",
   "id": "d69728d1",
   "metadata": {},
   "source": [
    "### Criando os datasets de treino e de teste"
   ]
  },
  {
   "cell_type": "code",
   "execution_count": 20,
   "id": "25b188fd",
   "metadata": {},
   "outputs": [],
   "source": [
    "X_train, X_test, y_train, y_test = train_test_split(X, y, test_size=0.2, random_state=2811)"
   ]
  },
  {
   "cell_type": "markdown",
   "id": "d1247c65",
   "metadata": {},
   "source": [
    "## Estimando o modelo com statsmodels"
   ]
  },
  {
   "cell_type": "code",
   "execution_count": 21,
   "id": "f642aefe",
   "metadata": {},
   "outputs": [],
   "source": [
    "X_train_com_constante = sm.add_constant(X_train)"
   ]
  },
  {
   "cell_type": "code",
   "execution_count": 22,
   "id": "c681645c",
   "metadata": {},
   "outputs": [
    {
     "data": {
      "text/html": [
       "<div>\n",
       "<style scoped>\n",
       "    .dataframe tbody tr th:only-of-type {\n",
       "        vertical-align: middle;\n",
       "    }\n",
       "\n",
       "    .dataframe tbody tr th {\n",
       "        vertical-align: top;\n",
       "    }\n",
       "\n",
       "    .dataframe thead th {\n",
       "        text-align: right;\n",
       "    }\n",
       "</style>\n",
       "<table border=\"1\" class=\"dataframe\">\n",
       "  <thead>\n",
       "    <tr style=\"text-align: right;\">\n",
       "      <th></th>\n",
       "      <th>const</th>\n",
       "      <th>log_transacoes_blog</th>\n",
       "      <th>log_usuarios_blog</th>\n",
       "      <th>log_transacoes_site</th>\n",
       "      <th>log_usuarios_site</th>\n",
       "    </tr>\n",
       "  </thead>\n",
       "  <tbody>\n",
       "    <tr>\n",
       "      <th>334</th>\n",
       "      <td>1.0</td>\n",
       "      <td>0.000000</td>\n",
       "      <td>0.000000</td>\n",
       "      <td>11.126895</td>\n",
       "      <td>12.166193</td>\n",
       "    </tr>\n",
       "    <tr>\n",
       "      <th>227</th>\n",
       "      <td>1.0</td>\n",
       "      <td>0.000000</td>\n",
       "      <td>0.000000</td>\n",
       "      <td>9.667322</td>\n",
       "      <td>11.257375</td>\n",
       "    </tr>\n",
       "    <tr>\n",
       "      <th>497</th>\n",
       "      <td>1.0</td>\n",
       "      <td>0.000000</td>\n",
       "      <td>0.000000</td>\n",
       "      <td>10.450423</td>\n",
       "      <td>11.802823</td>\n",
       "    </tr>\n",
       "    <tr>\n",
       "      <th>125</th>\n",
       "      <td>1.0</td>\n",
       "      <td>0.000000</td>\n",
       "      <td>0.000000</td>\n",
       "      <td>9.546884</td>\n",
       "      <td>11.709314</td>\n",
       "    </tr>\n",
       "    <tr>\n",
       "      <th>344</th>\n",
       "      <td>1.0</td>\n",
       "      <td>0.000000</td>\n",
       "      <td>0.000000</td>\n",
       "      <td>10.823671</td>\n",
       "      <td>11.988439</td>\n",
       "    </tr>\n",
       "    <tr>\n",
       "      <th>...</th>\n",
       "      <td>...</td>\n",
       "      <td>...</td>\n",
       "      <td>...</td>\n",
       "      <td>...</td>\n",
       "      <td>...</td>\n",
       "    </tr>\n",
       "    <tr>\n",
       "      <th>585</th>\n",
       "      <td>1.0</td>\n",
       "      <td>7.832014</td>\n",
       "      <td>9.077038</td>\n",
       "      <td>9.313619</td>\n",
       "      <td>11.855401</td>\n",
       "    </tr>\n",
       "    <tr>\n",
       "      <th>580</th>\n",
       "      <td>1.0</td>\n",
       "      <td>8.628198</td>\n",
       "      <td>9.183072</td>\n",
       "      <td>10.133488</td>\n",
       "      <td>11.974103</td>\n",
       "    </tr>\n",
       "    <tr>\n",
       "      <th>341</th>\n",
       "      <td>1.0</td>\n",
       "      <td>0.000000</td>\n",
       "      <td>0.000000</td>\n",
       "      <td>10.179489</td>\n",
       "      <td>11.649665</td>\n",
       "    </tr>\n",
       "    <tr>\n",
       "      <th>84</th>\n",
       "      <td>1.0</td>\n",
       "      <td>0.000000</td>\n",
       "      <td>0.000000</td>\n",
       "      <td>9.489940</td>\n",
       "      <td>11.646494</td>\n",
       "    </tr>\n",
       "    <tr>\n",
       "      <th>447</th>\n",
       "      <td>1.0</td>\n",
       "      <td>0.000000</td>\n",
       "      <td>0.000000</td>\n",
       "      <td>9.327234</td>\n",
       "      <td>11.205626</td>\n",
       "    </tr>\n",
       "  </tbody>\n",
       "</table>\n",
       "<p>511 rows × 5 columns</p>\n",
       "</div>"
      ],
      "text/plain": [
       "     const  log_transacoes_blog  log_usuarios_blog  log_transacoes_site  \\\n",
       "334    1.0             0.000000           0.000000            11.126895   \n",
       "227    1.0             0.000000           0.000000             9.667322   \n",
       "497    1.0             0.000000           0.000000            10.450423   \n",
       "125    1.0             0.000000           0.000000             9.546884   \n",
       "344    1.0             0.000000           0.000000            10.823671   \n",
       "..     ...                  ...                ...                  ...   \n",
       "585    1.0             7.832014           9.077038             9.313619   \n",
       "580    1.0             8.628198           9.183072            10.133488   \n",
       "341    1.0             0.000000           0.000000            10.179489   \n",
       "84     1.0             0.000000           0.000000             9.489940   \n",
       "447    1.0             0.000000           0.000000             9.327234   \n",
       "\n",
       "     log_usuarios_site  \n",
       "334          12.166193  \n",
       "227          11.257375  \n",
       "497          11.802823  \n",
       "125          11.709314  \n",
       "344          11.988439  \n",
       "..                 ...  \n",
       "585          11.855401  \n",
       "580          11.974103  \n",
       "341          11.649665  \n",
       "84           11.646494  \n",
       "447          11.205626  \n",
       "\n",
       "[511 rows x 5 columns]"
      ]
     },
     "execution_count": 22,
     "metadata": {},
     "output_type": "execute_result"
    }
   ],
   "source": [
    "X_train_com_constante"
   ]
  },
  {
   "cell_type": "code",
   "execution_count": 23,
   "id": "2e91a63b",
   "metadata": {},
   "outputs": [],
   "source": [
    "modelo_statsmodels = sm.OLS(y_train, X_train_com_constante, hasconst = True).fit()"
   ]
  },
  {
   "cell_type": "markdown",
   "id": "7a2d6ce0",
   "metadata": {},
   "source": [
    "## <font color=red>Avaliando o Modelo Estimado</font>\n",
    "\n",
    "\n",
    "\n",
    "\n"
   ]
  },
  {
   "cell_type": "markdown",
   "id": "3aeabde1",
   "metadata": {},
   "source": [
    "## Avaliando as estatísticas de teste do modelo"
   ]
  },
  {
   "cell_type": "code",
   "execution_count": 24,
   "id": "115b65af",
   "metadata": {
    "scrolled": true
   },
   "outputs": [
    {
     "name": "stdout",
     "output_type": "stream",
     "text": [
      "                            OLS Regression Results                            \n",
      "==============================================================================\n",
      "Dep. Variable:            log_receita   R-squared:                       0.823\n",
      "Model:                            OLS   Adj. R-squared:                  0.822\n",
      "Method:                 Least Squares   F-statistic:                     588.3\n",
      "Date:                Wed, 15 Jun 2022   Prob (F-statistic):          1.10e-188\n",
      "Time:                        11:01:52   Log-Likelihood:                -110.80\n",
      "No. Observations:                 511   AIC:                             231.6\n",
      "Df Residuals:                     506   BIC:                             252.8\n",
      "Df Model:                           4                                         \n",
      "Covariance Type:            nonrobust                                         \n",
      "=======================================================================================\n",
      "                          coef    std err          t      P>|t|      [0.025      0.975]\n",
      "---------------------------------------------------------------------------------------\n",
      "const                   6.0846      0.495     12.284      0.000       5.111       7.058\n",
      "log_transacoes_blog    -0.0598      0.069     -0.868      0.386      -0.195       0.076\n",
      "log_usuarios_blog       0.1343      0.061      2.186      0.029       0.014       0.255\n",
      "log_transacoes_site     1.0307      0.036     28.241      0.000       0.959       1.102\n",
      "log_usuarios_site      -0.1864      0.061     -3.053      0.002      -0.306      -0.066\n",
      "==============================================================================\n",
      "Omnibus:                      436.345   Durbin-Watson:                   2.059\n",
      "Prob(Omnibus):                  0.000   Jarque-Bera (JB):            17096.860\n",
      "Skew:                          -3.446   Prob(JB):                         0.00\n",
      "Kurtosis:                      30.486   Cond. No.                         569.\n",
      "==============================================================================\n",
      "\n",
      "Notes:\n",
      "[1] Standard Errors assume that the covariance matrix of the errors is correctly specified.\n"
     ]
    }
   ],
   "source": [
    "print(modelo_statsmodels.summary())"
   ]
  },
  {
   "cell_type": "markdown",
   "id": "defa360c",
   "metadata": {},
   "source": [
    "\n",
    " P>|t| é o equivalente ao Prob (F-statistic) então funciona da mesma maneira que ele. Identificamos que o parâmetro não é estatisticamente significativo, ou seja, ele tá dizendo que esse parâmetro. Nota-se, portanto, que o parâmetro log_transacoes_blog     não passa no testes, que testa se \"esse cara é igual a zero ou não\"."
   ]
  },
  {
   "cell_type": "markdown",
   "id": "b40069c2",
   "metadata": {},
   "source": [
    "## <font color=red>Estimando o Modelo com os Dados de Treino</font>\n",
    "\n"
   ]
  },
  {
   "cell_type": "markdown",
   "id": "77ff4fd3",
   "metadata": {},
   "source": [
    "## Instanciando a classe LinearRegression()"
   ]
  },
  {
   "cell_type": "code",
   "execution_count": 25,
   "id": "6949637d",
   "metadata": {},
   "outputs": [],
   "source": [
    "modelo = LinearRegression()"
   ]
  },
  {
   "cell_type": "markdown",
   "id": "49975294",
   "metadata": {},
   "source": [
    "## Utilizando o método fit() do objeto \"modelo\" para estimar nosso modelo linear utilizando os dados de TREINO (y_train e X_train)"
   ]
  },
  {
   "cell_type": "code",
   "execution_count": 26,
   "id": "0a9d87a4",
   "metadata": {},
   "outputs": [
    {
     "data": {
      "text/plain": [
       "LinearRegression()"
      ]
     },
     "execution_count": 26,
     "metadata": {},
     "output_type": "execute_result"
    }
   ],
   "source": [
    "modelo.fit(X_train, y_train)"
   ]
  },
  {
   "cell_type": "markdown",
   "id": "7a870e17",
   "metadata": {},
   "source": [
    " ## Gerando previsões para os dados de TESTE (X_test) utilizando o método predict() do objeto \"modelo\""
   ]
  },
  {
   "cell_type": "code",
   "execution_count": 27,
   "id": "3ab235f6",
   "metadata": {},
   "outputs": [],
   "source": [
    "y_previsto = modelo.predict(X_test)"
   ]
  },
  {
   "cell_type": "markdown",
   "id": "cce96256",
   "metadata": {},
   "source": [
    "## <font color=red>Obtendo Previsões Pontuais</font>\n",
    "\n"
   ]
  },
  {
   "cell_type": "markdown",
   "id": "2b46a9b3",
   "metadata": {},
   "source": [
    "## Dados de entrada"
   ]
  },
  {
   "cell_type": "code",
   "execution_count": 28,
   "id": "e742102a",
   "metadata": {},
   "outputs": [
    {
     "data": {
      "text/html": [
       "<div>\n",
       "<style scoped>\n",
       "    .dataframe tbody tr th:only-of-type {\n",
       "        vertical-align: middle;\n",
       "    }\n",
       "\n",
       "    .dataframe tbody tr th {\n",
       "        vertical-align: top;\n",
       "    }\n",
       "\n",
       "    .dataframe thead th {\n",
       "        text-align: right;\n",
       "    }\n",
       "</style>\n",
       "<table border=\"1\" class=\"dataframe\">\n",
       "  <thead>\n",
       "    <tr style=\"text-align: right;\">\n",
       "      <th></th>\n",
       "      <th>log_transacoes_blog</th>\n",
       "      <th>log_usuarios_blog</th>\n",
       "      <th>log_transacoes_site</th>\n",
       "      <th>log_usuarios_site</th>\n",
       "    </tr>\n",
       "  </thead>\n",
       "  <tbody>\n",
       "    <tr>\n",
       "      <th>173</th>\n",
       "      <td>0.0</td>\n",
       "      <td>0.0</td>\n",
       "      <td>9.284891</td>\n",
       "      <td>10.987409</td>\n",
       "    </tr>\n",
       "  </tbody>\n",
       "</table>\n",
       "</div>"
      ],
      "text/plain": [
       "     log_transacoes_blog  log_usuarios_blog  log_transacoes_site  \\\n",
       "173                  0.0                0.0             9.284891   \n",
       "\n",
       "     log_usuarios_site  \n",
       "173          10.987409  "
      ]
     },
     "execution_count": 28,
     "metadata": {},
     "output_type": "execute_result"
    }
   ],
   "source": [
    "entrada = X_test[0:1]\n",
    "entrada"
   ]
  },
  {
   "cell_type": "markdown",
   "id": "d3f1a56d",
   "metadata": {},
   "source": [
    "## Gerando previsão pontual"
   ]
  },
  {
   "cell_type": "code",
   "execution_count": 29,
   "id": "1d9e41d1",
   "metadata": {},
   "outputs": [
    {
     "data": {
      "text/plain": [
       "13.607177088759753"
      ]
     },
     "execution_count": 29,
     "metadata": {},
     "output_type": "execute_result"
    }
   ],
   "source": [
    "modelo.predict(entrada)[0]"
   ]
  },
  {
   "cell_type": "markdown",
   "id": "2c477384",
   "metadata": {},
   "source": [
    "## Invertendo a transformação logaritima para obter a estimativa em R$"
   ]
  },
  {
   "cell_type": "code",
   "execution_count": 30,
   "id": "3f3f6d1b",
   "metadata": {},
   "outputs": [
    {
     "data": {
      "text/plain": [
       "811936.2358318871"
      ]
     },
     "execution_count": 30,
     "metadata": {},
     "output_type": "execute_result"
    }
   ],
   "source": [
    "np.exp(modelo.predict(entrada)[0])"
   ]
  },
  {
   "cell_type": "markdown",
   "id": "ca1f1a8f",
   "metadata": {},
   "source": [
    "## Criando um simulador simples"
   ]
  },
  {
   "cell_type": "markdown",
   "id": "74fa2a34",
   "metadata": {},
   "source": [
    "Quando se altera algum dos valores nas nossas variaveis abaixo nosso modelo automaticamente calcula o efeito em nossa receita."
   ]
  },
  {
   "cell_type": "code",
   "execution_count": 89,
   "id": "228f6b78",
   "metadata": {},
   "outputs": [
    {
     "name": "stdout",
     "output_type": "stream",
     "text": [
      "6555.093\n"
     ]
    }
   ],
   "source": [
    "transacoes_site =36\n",
    "usuarios_blog = 65\n",
    "usuarios_site = 1455\n",
    "transacoes_blog = 13\n",
    "\n",
    "entrada = [[np.log(transacoes_site),np.log(usuarios_site), np.log(transacoes_blog +1), np.log(usuarios_blog + 1)]]\n",
    "\n",
    "print('{0:.3f}'.format(np.exp(modelo.predict(entrada)[0])))"
   ]
  },
  {
   "cell_type": "markdown",
   "id": "9567b411",
   "metadata": {},
   "source": [
    "## <font color=red>Interpretação dos Coeficientes Estimados</font>\n",
    "\n",
    "\n"
   ]
  },
  {
   "cell_type": "markdown",
   "id": "682ba12e",
   "metadata": {},
   "source": [
    "## Obtendo o intercepto do modelo\n",
    "\n",
    "<p style='font-size: 20px; line-height: 2; margin: 10px 50px; text-align: justify;'>O <b>intercepto</b> representa o efeito médio em $Y$ (Receita) . No caso do modelo log-linear este coeficiente deve ser transformado com o uso da função exponencial para ser apresentado em R$.</p>"
   ]
  },
  {
   "cell_type": "code",
   "execution_count": 32,
   "id": "bbd8e63a",
   "metadata": {},
   "outputs": [
    {
     "data": {
      "text/plain": [
       "6.084591058876745"
      ]
     },
     "execution_count": 32,
     "metadata": {},
     "output_type": "execute_result"
    }
   ],
   "source": [
    "modelo.intercept_"
   ]
  },
  {
   "cell_type": "code",
   "execution_count": 33,
   "id": "291abc4e",
   "metadata": {},
   "outputs": [
    {
     "data": {
      "text/plain": [
       "439.04023435051727"
      ]
     },
     "execution_count": 33,
     "metadata": {},
     "output_type": "execute_result"
    }
   ],
   "source": [
    "np.exp(modelo.intercept_)"
   ]
  },
  {
   "cell_type": "markdown",
   "id": "ebeaee8d",
   "metadata": {},
   "source": [
    "## Obtendo os coeficientes de regressão\n",
    "\n",
    "<p style='font-size: 20px; line-height: 2; margin: 10px 50px; text-align: justify;'>Os <b>coeficientes de regressão</b> $\\beta_2$ e $\\beta_3$ são conhecidos como <b>coeficientes parciais de regressão</b> ou <b>coeficientes parciais angulares</b>. </p>\n",
    "\n",
    "<p style='font-size: 20px; line-height: 2; margin: 10px 50px; text-align: justify;'>Um aspecto interessante do modelo log-linear, que o tornou muito utilizado nos trabalhos aplicados, é que os coeficientes angulares $\\beta_2$ e $\\beta_3$, medem as elasticidades de Y em relação a $X_2$ , $X_3$, $X_4$ e $X_5$, isto é, a variação percentual de Y correspondente a uma dada variação percentual (pequena) em $X_2$, $X_3$ , $X_4$ e $X_5$ .</p>"
   ]
  },
  {
   "cell_type": "code",
   "execution_count": 34,
   "id": "e16ad33e",
   "metadata": {},
   "outputs": [
    {
     "data": {
      "text/plain": [
       "array([-0.05982473,  0.13434663,  1.03071905, -0.18635223])"
      ]
     },
     "execution_count": 34,
     "metadata": {},
     "output_type": "execute_result"
    }
   ],
   "source": [
    "modelo.coef_"
   ]
  },
  {
   "cell_type": "markdown",
   "id": "07a973ec",
   "metadata": {},
   "source": [
    "## Confirmando a ordem das variáveis explicativas no DataFrame"
   ]
  },
  {
   "cell_type": "code",
   "execution_count": 35,
   "id": "374180f2",
   "metadata": {},
   "outputs": [
    {
     "data": {
      "text/plain": [
       "Index(['log_transacoes_blog', 'log_usuarios_blog', 'log_transacoes_site',\n",
       "       'log_usuarios_site'],\n",
       "      dtype='object')"
      ]
     },
     "execution_count": 35,
     "metadata": {},
     "output_type": "execute_result"
    }
   ],
   "source": [
    "X.columns"
   ]
  },
  {
   "cell_type": "markdown",
   "id": "ddf520d1",
   "metadata": {},
   "source": [
    "## Criando uma lista com os nomes das variáveis do modelo"
   ]
  },
  {
   "cell_type": "code",
   "execution_count": 36,
   "id": "aad6dcf7",
   "metadata": {},
   "outputs": [],
   "source": [
    "index = ['Intercepto', 'log_transacoes_site', 'log_usuarios_site',  'log_usuarios_blog', 'log_transacoes_blog']"
   ]
  },
  {
   "cell_type": "markdown",
   "id": "b803471e",
   "metadata": {},
   "source": [
    "## Criando um DataFrame para armazenar os coeficientes do modelo"
   ]
  },
  {
   "cell_type": "code",
   "execution_count": 37,
   "id": "9a4ba621",
   "metadata": {
    "scrolled": true
   },
   "outputs": [
    {
     "data": {
      "text/html": [
       "<div>\n",
       "<style scoped>\n",
       "    .dataframe tbody tr th:only-of-type {\n",
       "        vertical-align: middle;\n",
       "    }\n",
       "\n",
       "    .dataframe tbody tr th {\n",
       "        vertical-align: top;\n",
       "    }\n",
       "\n",
       "    .dataframe thead th {\n",
       "        text-align: right;\n",
       "    }\n",
       "</style>\n",
       "<table border=\"1\" class=\"dataframe\">\n",
       "  <thead>\n",
       "    <tr style=\"text-align: right;\">\n",
       "      <th></th>\n",
       "      <th>Parâmetros</th>\n",
       "    </tr>\n",
       "  </thead>\n",
       "  <tbody>\n",
       "    <tr>\n",
       "      <th>Intercepto</th>\n",
       "      <td>6.084591</td>\n",
       "    </tr>\n",
       "    <tr>\n",
       "      <th>log_transacoes_site</th>\n",
       "      <td>-0.059825</td>\n",
       "    </tr>\n",
       "    <tr>\n",
       "      <th>log_usuarios_site</th>\n",
       "      <td>0.134347</td>\n",
       "    </tr>\n",
       "    <tr>\n",
       "      <th>log_usuarios_blog</th>\n",
       "      <td>1.030719</td>\n",
       "    </tr>\n",
       "    <tr>\n",
       "      <th>log_transacoes_blog</th>\n",
       "      <td>-0.186352</td>\n",
       "    </tr>\n",
       "  </tbody>\n",
       "</table>\n",
       "</div>"
      ],
      "text/plain": [
       "                     Parâmetros\n",
       "Intercepto             6.084591\n",
       "log_transacoes_site   -0.059825\n",
       "log_usuarios_site      0.134347\n",
       "log_usuarios_blog      1.030719\n",
       "log_transacoes_blog   -0.186352"
      ]
     },
     "execution_count": 37,
     "metadata": {},
     "output_type": "execute_result"
    }
   ],
   "source": [
    "pd.DataFrame(data=np.append(modelo.intercept_, modelo.coef_), index=index, columns=['Parâmetros'])"
   ]
  },
  {
   "cell_type": "markdown",
   "id": "e81f2f7f",
   "metadata": {},
   "source": [
    "## Interpretação dos Coeficientes Estimados"
   ]
  },
  {
   "cell_type": "markdown",
   "id": "7196ee93",
   "metadata": {},
   "source": [
    "<p style='font-size: 16px; line-height: 2;  text-align: justify;'>\n",
    "<b>Transações site </b> → Mantendo-se o valor de $X_2$ (transacoes_site) constante, um decréscimo de 1% no numero de transações do site gera, em média, um decréscimo de <b>0.06%</b> na receita.\n",
    "</p>\n",
    "\n",
    "<p style='font-size: 16px; line-height: 2;  text-align: justify;'>\n",
    "<b>Usuários site </b> → Mantendo-se o valor de $X_3$ (usuários_site) constante, um acréscimo de 1% no numero de usuários do site gera, em média, um acrécimo de <b>0.13%</b> na receita.\n",
    "</p>\n",
    "\n",
    "<p style='font-size: 16px; line-height: 2;  text-align: justify;'>\n",
    "<b>Usuários blog </b> → Mantendo-se o valor de $X_4$ (usuários_blog) constante, um acréscimo de 1% no numero de usuários do blog gera, em média, um acrécimo de <b>1.03%</b> na receita.\n",
    "</p>\n",
    "\n",
    "<p style='font-size: 16px; line-height: 2;  text-align: justify;'>\n",
    "<b>Transações blog </b> → Mantendo-se o valor de $X_5$ (transacoes_blog) constante, um decréscimo de 1% no numero de Transações do blog gera, em média, um decréscimo de <b>0.18%</b> na receita.\n",
    "</p>"
   ]
  },
  {
   "cell_type": "markdown",
   "id": "9a5fd309",
   "metadata": {},
   "source": [
    "## <font color=red>Análises Gráficas dos Resultados do Modelo</font>\n",
    "\n"
   ]
  },
  {
   "cell_type": "markdown",
   "id": "4d586aec",
   "metadata": {},
   "source": [
    "## Gerando as previsões do modelo para os dados de TREINO"
   ]
  },
  {
   "cell_type": "code",
   "execution_count": 38,
   "id": "024ead4d",
   "metadata": {},
   "outputs": [],
   "source": [
    "y_previsto_train = modelo.predict(X_train)"
   ]
  },
  {
   "cell_type": "markdown",
   "id": "1df72bdc",
   "metadata": {},
   "source": [
    "## Gráfico de dispersão entre valor estimado e valor real"
   ]
  },
  {
   "cell_type": "code",
   "execution_count": 39,
   "id": "cae6f72a",
   "metadata": {
    "scrolled": false
   },
   "outputs": [
    {
     "data": {
      "image/png": "[encoded data removed]",
      "text/plain": [
       "<Figure size 864x432 with 1 Axes>"
      ]
     },
     "metadata": {},
     "output_type": "display_data"
    }
   ],
   "source": [
    "ax = sns.scatterplot(x=y_previsto_train, y=y_train)\n",
    "ax.figure.set_size_inches(12, 6)\n",
    "ax.set_title('Previsão X Real', fontsize=18)\n",
    "ax.set_xlabel('log da Receita - Previsão', fontsize=14)\n",
    "ax.set_ylabel('log da Receita - Real', fontsize=14)\n",
    "ax = ax"
   ]
  },
  {
   "cell_type": "markdown",
   "id": "edecb2a6",
   "metadata": {},
   "source": [
    "### Como não temos uma grande dispersão em nosso gráfico, isso indica o quanto nossa estimativa está de certa maneira precisa. "
   ]
  },
  {
   "cell_type": "markdown",
   "id": "377bac59",
   "metadata": {},
   "source": [
    "## Obtendo os resíduos"
   ]
  },
  {
   "cell_type": "code",
   "execution_count": 40,
   "id": "62e6396c",
   "metadata": {},
   "outputs": [],
   "source": [
    "residuo = y_train - y_previsto_train"
   ]
  },
  {
   "cell_type": "markdown",
   "id": "0dc95c74",
   "metadata": {},
   "source": [
    "## Plotando a distribuição de frequências dos resíduos"
   ]
  },
  {
   "cell_type": "code",
   "execution_count": 68,
   "id": "388b4aa5",
   "metadata": {},
   "outputs": [
    {
     "data": {
      "image/png": "[encoded data removed]",
      "text/plain": [
       "<Figure size 864x432 with 1 Axes>"
      ]
     },
     "metadata": {},
     "output_type": "display_data"
    }
   ],
   "source": [
    "ax = sns.distplot(residuo)\n",
    "ax.figure.set_size_inches(12, 6)\n",
    "ax.set_title('Distribuição de Frequências dos Resíduos', fontsize=18)\n",
    "ax.set_xlabel('log da Receita', fontsize=14)\n",
    "ax = ax"
   ]
  },
  {
   "cell_type": "markdown",
   "id": "5f55d5f8",
   "metadata": {},
   "source": [
    "#### Como resultado, teremos uma curva agradável que indica dados bem comportados, o que favorece um modelo bem estimado.\n"
   ]
  },
  {
   "cell_type": "markdown",
   "id": "87096421",
   "metadata": {},
   "source": [
    "## <font color=red>Observações</font>\n",
    "\n",
    "\n"
   ]
  },
  {
   "cell_type": "markdown",
   "id": "4c91bbc5",
   "metadata": {},
   "source": [
    "É importante frisar que este não de um modelo a ser usado comercialmente, que precisaria de mais variáveis e elementos para operar de maneira funcional. Contudo, conseguimos antever qual seria o comportamento adequado para que um modelo estimativo nos fornecesse informações seguras, e para este fim, nosso projeto cabe perfeitamente."
   ]
  },
  {
   "cell_type": "markdown",
   "id": "1617725f",
   "metadata": {},
   "source": [
    "# <font color=green> TESTES DE HIPÓTESES</font>"
   ]
  },
  {
   "cell_type": "markdown",
   "id": "1bd714cd",
   "metadata": {},
   "source": [
    " Testes estatísticos são regras de decisão que permitem avaliar a razoabilidade das hipóteses feitas sobre os parâmetros populacionais e aceitá-las ou rejeitá-las como provavelmente verdadeiras ou falsas tendo como base uma amostra."
   ]
  },
  {
   "cell_type": "markdown",
   "id": "fb81d6f2",
   "metadata": {},
   "source": [
    "## <font color=green> Teste de normalidade</font>"
   ]
  },
  {
   "cell_type": "markdown",
   "id": "3efc62f8",
   "metadata": {},
   "source": [
    " A função *normaltest* testa a hipótese nula $H_0$ de que a amostra é proveniente de uma distribuição normal."
   ]
  },
  {
   "cell_type": "markdown",
   "id": "c32aaf82",
   "metadata": {},
   "source": [
    "### Definindo a significância do teste ($\\alpha$)"
   ]
  },
  {
   "cell_type": "code",
   "execution_count": 42,
   "id": "f17283ac",
   "metadata": {},
   "outputs": [],
   "source": [
    "significancia = 0.05"
   ]
  },
  {
   "cell_type": "markdown",
   "id": "a8462c0f",
   "metadata": {},
   "source": [
    "### Testaremos nossas variaveis para saber como estão suas distribuições"
   ]
  },
  {
   "cell_type": "markdown",
   "id": "e7181380",
   "metadata": {},
   "source": [
    "### <font color=green>Testando a variável Receita</font> "
   ]
  },
  {
   "cell_type": "code",
   "execution_count": 69,
   "id": "7ba926c4",
   "metadata": {},
   "outputs": [
    {
     "data": {
      "text/plain": [
       "<AxesSubplot:>"
      ]
     },
     "execution_count": 69,
     "metadata": {},
     "output_type": "execute_result"
    },
    {
     "data": {
      "image/png": "[encoded data removed]",
      "text/plain": [
       "<Figure size 432x288 with 1 Axes>"
      ]
     },
     "metadata": {},
     "output_type": "display_data"
    }
   ],
   "source": [
    "dados.receita.hist(bins = 50)"
   ]
  },
  {
   "cell_type": "markdown",
   "id": "4d435b8c",
   "metadata": {},
   "source": [
    "### <font color='red'>Critério do valor $p$</font>\n",
    "\n",
    "> ### Rejeitar $H_0$ se o valor $p\\leq 0,05$"
   ]
  },
  {
   "cell_type": "code",
   "execution_count": 44,
   "id": "9b771ac0",
   "metadata": {},
   "outputs": [
    {
     "name": "stdout",
     "output_type": "stream",
     "text": [
      "376.4558971365377\n",
      "1.7932489979653222e-82\n"
     ]
    }
   ],
   "source": [
    "stat_test, p_valor = normaltest(dados.receita)\n",
    "print(stat_test)\n",
    "print(p_valor)"
   ]
  },
  {
   "cell_type": "code",
   "execution_count": 45,
   "id": "87f2b3bf",
   "metadata": {},
   "outputs": [
    {
     "data": {
      "text/plain": [
       "True"
      ]
     },
     "execution_count": 45,
     "metadata": {},
     "output_type": "execute_result"
    }
   ],
   "source": [
    "p_valor <= significancia"
   ]
  },
  {
   "cell_type": "markdown",
   "id": "a9262d3a",
   "metadata": {},
   "source": [
    "#### Como o P valor é maior ou igual a 0.5 que é nossa significancia H0 é rejeitado e a amostra não é proveniente de uma distribuição normal."
   ]
  },
  {
   "cell_type": "markdown",
   "id": "39060aae",
   "metadata": {},
   "source": [
    "### <font color=green>Testando a variável usuários do blog</font>  "
   ]
  },
  {
   "cell_type": "code",
   "execution_count": 46,
   "id": "8638bda2",
   "metadata": {},
   "outputs": [
    {
     "data": {
      "text/plain": [
       "<AxesSubplot:>"
      ]
     },
     "execution_count": 46,
     "metadata": {},
     "output_type": "execute_result"
    },
    {
     "data": {
      "image/png": "[encoded data removed]",
      "text/plain": [
       "<Figure size 432x288 with 1 Axes>"
      ]
     },
     "metadata": {},
     "output_type": "display_data"
    }
   ],
   "source": [
    "dados.usuarios_blog.hist(bins = 50)"
   ]
  },
  {
   "cell_type": "markdown",
   "id": "e65c6e0e",
   "metadata": {},
   "source": [
    "### <font color='red'>Critério do valor $p$</font>\n",
    "\n",
    "> ### Rejeitar $H_0$ se o valor $p\\leq 0,05$"
   ]
  },
  {
   "cell_type": "code",
   "execution_count": 47,
   "id": "b98d1044",
   "metadata": {},
   "outputs": [
    {
     "name": "stdout",
     "output_type": "stream",
     "text": [
      "276.05496204188813\n",
      "1.1361263738507747e-60\n"
     ]
    }
   ],
   "source": [
    "stat_test, p_valor = normaltest(dados.usuarios_blog)\n",
    "print(stat_test)\n",
    "print(p_valor)"
   ]
  },
  {
   "cell_type": "code",
   "execution_count": 48,
   "id": "8da853ec",
   "metadata": {},
   "outputs": [
    {
     "data": {
      "text/plain": [
       "True"
      ]
     },
     "execution_count": 48,
     "metadata": {},
     "output_type": "execute_result"
    }
   ],
   "source": [
    "p_valor <= significancia"
   ]
  },
  {
   "cell_type": "markdown",
   "id": "36e1cc74",
   "metadata": {},
   "source": [
    "#### Como o P valor é maior ou igual a 0.5 que é nossa significancia H0 é rejeitado e a amostra não é proveniente de uma distribuição normal."
   ]
  },
  {
   "cell_type": "markdown",
   "id": "e06b2b5b",
   "metadata": {},
   "source": [
    "### <font color=green>Testando a variável usuários do site </font> "
   ]
  },
  {
   "cell_type": "code",
   "execution_count": 49,
   "id": "3120b087",
   "metadata": {},
   "outputs": [
    {
     "data": {
      "text/plain": [
       "<AxesSubplot:>"
      ]
     },
     "execution_count": 49,
     "metadata": {},
     "output_type": "execute_result"
    },
    {
     "data": {
      "image/png": "[encoded data removed]",
      "text/plain": [
       "<Figure size 432x288 with 1 Axes>"
      ]
     },
     "metadata": {},
     "output_type": "display_data"
    }
   ],
   "source": [
    "dados.usuarios_site.hist(bins = 50)"
   ]
  },
  {
   "cell_type": "markdown",
   "id": "4cc451f9",
   "metadata": {},
   "source": [
    "### <font color='red'>Critério do valor $p$</font>\n",
    "\n",
    "> ### Rejeitar $H_0$ se o valor $p\\leq 0,05$"
   ]
  },
  {
   "cell_type": "code",
   "execution_count": 50,
   "id": "36b6d9be",
   "metadata": {},
   "outputs": [
    {
     "name": "stdout",
     "output_type": "stream",
     "text": [
      "269.9584555228764\n",
      "2.3947832487712726e-59\n"
     ]
    }
   ],
   "source": [
    "stat_test, p_valor = normaltest(dados.usuarios_site)\n",
    "print(stat_test)\n",
    "print(p_valor)"
   ]
  },
  {
   "cell_type": "code",
   "execution_count": 51,
   "id": "feca39d9",
   "metadata": {},
   "outputs": [
    {
     "data": {
      "text/plain": [
       "True"
      ]
     },
     "execution_count": 51,
     "metadata": {},
     "output_type": "execute_result"
    }
   ],
   "source": [
    "p_valor <= significancia"
   ]
  },
  {
   "cell_type": "markdown",
   "id": "1958ecc0",
   "metadata": {},
   "source": [
    "#### Como o P valor é maior ou igual a 0.5 que é nossa significancia H0 é rejeitado e a amostra não é proveniente de uma distribuição normal."
   ]
  },
  {
   "cell_type": "markdown",
   "id": "c3908194",
   "metadata": {},
   "source": [
    "### <font color=green>Testando a variável transações do blog </font> "
   ]
  },
  {
   "cell_type": "code",
   "execution_count": 52,
   "id": "b94a978c",
   "metadata": {},
   "outputs": [
    {
     "data": {
      "text/plain": [
       "<AxesSubplot:>"
      ]
     },
     "execution_count": 52,
     "metadata": {},
     "output_type": "execute_result"
    },
    {
     "data": {
      "image/png": "[encoded data removed]",
      "text/plain": [
       "<Figure size 432x288 with 1 Axes>"
      ]
     },
     "metadata": {},
     "output_type": "display_data"
    }
   ],
   "source": [
    "dados.transacoes_blog.hist(bins = 50)"
   ]
  },
  {
   "cell_type": "markdown",
   "id": "31511499",
   "metadata": {},
   "source": [
    "### <font color='red'>Critério do valor $p$</font>\n",
    "\n",
    "> ### Rejeitar $H_0$ se o valor $p\\leq 0,05$"
   ]
  },
  {
   "cell_type": "code",
   "execution_count": 53,
   "id": "7ae395ba",
   "metadata": {},
   "outputs": [
    {
     "name": "stdout",
     "output_type": "stream",
     "text": [
      "274.1832649193778\n",
      "2.896413130631297e-60\n"
     ]
    }
   ],
   "source": [
    "stat_test, p_valor = normaltest(dados.transacoes_blog)\n",
    "print(stat_test)\n",
    "print(p_valor)"
   ]
  },
  {
   "cell_type": "code",
   "execution_count": 54,
   "id": "2c63c6eb",
   "metadata": {},
   "outputs": [
    {
     "data": {
      "text/plain": [
       "True"
      ]
     },
     "execution_count": 54,
     "metadata": {},
     "output_type": "execute_result"
    }
   ],
   "source": [
    "p_valor <= significancia"
   ]
  },
  {
   "cell_type": "markdown",
   "id": "fc4bc2ff",
   "metadata": {},
   "source": [
    "#### Como o P valor é maior ou igual a 0.5 que é nossa significancia H0 é rejeitado e a amostra não é proveniente de uma distribuição normal."
   ]
  },
  {
   "cell_type": "markdown",
   "id": "58aff0f8",
   "metadata": {},
   "source": [
    "### <font color=green>Testando a variável transações do site </font> "
   ]
  },
  {
   "cell_type": "code",
   "execution_count": 55,
   "id": "abc0b863",
   "metadata": {},
   "outputs": [
    {
     "data": {
      "text/plain": [
       "<AxesSubplot:>"
      ]
     },
     "execution_count": 55,
     "metadata": {},
     "output_type": "execute_result"
    },
    {
     "data": {
      "image/png": "[encoded data removed]",
      "text/plain": [
       "<Figure size 432x288 with 1 Axes>"
      ]
     },
     "metadata": {},
     "output_type": "display_data"
    }
   ],
   "source": [
    "dados.transacoes_site.hist(bins = 50)"
   ]
  },
  {
   "cell_type": "markdown",
   "id": "64ee97b2",
   "metadata": {},
   "source": [
    "### <font color='red'>Critério do valor $p$</font>\n",
    "\n",
    "> ### Rejeitar $H_0$ se o valor $p\\leq 0,05$"
   ]
  },
  {
   "cell_type": "code",
   "execution_count": 56,
   "id": "6f223569",
   "metadata": {},
   "outputs": [
    {
     "name": "stdout",
     "output_type": "stream",
     "text": [
      "673.8096197338224\n",
      "4.8317020805360967e-147\n"
     ]
    }
   ],
   "source": [
    "stat_test, p_valor = normaltest(dados.transacoes_site)\n",
    "print(stat_test)\n",
    "print(p_valor)"
   ]
  },
  {
   "cell_type": "code",
   "execution_count": 57,
   "id": "938bda42",
   "metadata": {},
   "outputs": [
    {
     "data": {
      "text/plain": [
       "True"
      ]
     },
     "execution_count": 57,
     "metadata": {},
     "output_type": "execute_result"
    }
   ],
   "source": [
    "p_valor <= significancia"
   ]
  },
  {
   "cell_type": "markdown",
   "id": "b9a86e56",
   "metadata": {},
   "source": [
    "#### Como o P valor é maior ou igual a 0.5 que é nossa significancia H0 é rejeitado e a amostra não é proveniente de uma distribuição normal."
   ]
  },
  {
   "cell_type": "markdown",
   "id": "639f6353",
   "metadata": {},
   "source": [
    "#### Conclusão do teste de normalidade das variaveis: \n",
    "Como rejeitamos todas as hipoteses das nossas variáveis e descobrimos que nossos dados não estão normalmente distribuidos, iremos usar testes não parametricos para testar nossas hipoteses."
   ]
  },
  {
   "cell_type": "markdown",
   "id": "5c696d9b",
   "metadata": {},
   "source": [
    "# <font color=green> TESTES NÃO PARAMÉTRICOS</font>"
   ]
  },
  {
   "cell_type": "markdown",
   "id": "c9d45d95",
   "metadata": {},
   "source": [
    "Os testes não paramétricos, também conhecidos como testes de distribuição gratuita, são aqueles baseados em certas hipóteses, mas que não possuem uma organização normal. Geralmente, contêm resultados estatísticos provenientes de suas ordenações.\n",
    "\n",
    " Testes não paramétricos têm algumas limitações, entre eles, está que não são fortes suficientemente fortes quando uma hipótese normal é preenchida. Isso pode fazer com que não seja rejeitado, mesmo que seja falso. Outra de suas limitações é que necessitam que a hipótese seja alterada quando o teste não corresponde à questão do procedimento se a amostra não for proporcional."
   ]
  },
  {
   "cell_type": "markdown",
   "id": "84c04cc5",
   "metadata": {},
   "source": [
    "## <font color='red'>Problema</font>"
   ]
  },
  {
   "cell_type": "markdown",
   "id": "c7b14886",
   "metadata": {},
   "source": [
    "Em nosso dataset temos dados sobre o nosso site de vendas e criamos o blog com conteúdo há aproximadamente 3 meses atrás, e queremos entender qual influência de um blog da nossa marca.\n",
    "\n",
    "Então selecionarei duas amostras em nosso dataset. Com o objetivo de comprovar tal influência sobre a receita da empresa  **testarei a igualdade das médias** entra estas duas amostras com um nível de **significância de 5%**."
   ]
  },
  {
   "cell_type": "markdown",
   "id": "feaa1795",
   "metadata": {},
   "source": [
    "# <font color=green>Teste de Mann-Whitney</font>\n",
    "### Comparação de duas populações - amostras independentes\n",
    "***"
   ]
  },
  {
   "cell_type": "markdown",
   "id": "003e8e5d",
   "metadata": {},
   "source": [
    "Mann-Whitney é um teste não paramétrico utilizado para verificar se duas amostras independentes foram selecionadas a partir de populações que têm a mesma média. Por ser um teste não paramétrico, Mann-Whitney torna-se uma alternativa ao teste paramétrico de comparação de médias."
   ]
  },
  {
   "cell_type": "code",
   "execution_count": 58,
   "id": "9880e84b",
   "metadata": {},
   "outputs": [],
   "source": [
    "usuarios_blog = dados.usuarios_blog\n",
    "usuarios_site = dados.usuarios_site\n",
    "transacoes_blog = dados.transacoes_blog\n",
    "transacoes_site = dados.transacoes_site\n",
    "receita = dados.receita"
   ]
  },
  {
   "cell_type": "markdown",
   "id": "48947c1e",
   "metadata": {},
   "source": [
    "### <font color='red'>Critério do valor $p$</font>\n",
    "\n",
    "> ### Rejeitar $H_0$ se o valor $p\\leq\\alpha$"
   ]
  },
  {
   "cell_type": "markdown",
   "id": "6ef76c48",
   "metadata": {},
   "source": [
    "### <font color=green>Testando a variável usuários do blog e usuários do site </font> "
   ]
  },
  {
   "cell_type": "code",
   "execution_count": 59,
   "id": "618afd37",
   "metadata": {},
   "outputs": [
    {
     "name": "stdout",
     "output_type": "stream",
     "text": [
      "0.0\n",
      "2.391193425606197e-225\n"
     ]
    }
   ],
   "source": [
    "u, p_valor = mannwhitneyu(usuarios_blog, usuarios_site, alternative='less')\n",
    "print(u)\n",
    "print(p_valor)"
   ]
  },
  {
   "cell_type": "code",
   "execution_count": 60,
   "id": "26de6284",
   "metadata": {},
   "outputs": [
    {
     "data": {
      "text/plain": [
       "True"
      ]
     },
     "execution_count": 60,
     "metadata": {},
     "output_type": "execute_result"
    }
   ],
   "source": [
    "p_valor <= significancia"
   ]
  },
  {
   "cell_type": "markdown",
   "id": "eda4478f",
   "metadata": {},
   "source": [
    "### <font color=green>Testando a variável transações do blog x transações do site </font> "
   ]
  },
  {
   "cell_type": "code",
   "execution_count": 61,
   "id": "5b7bcc89",
   "metadata": {},
   "outputs": [
    {
     "name": "stdout",
     "output_type": "stream",
     "text": [
      "134.0\n",
      "4.689855769706814e-225\n"
     ]
    }
   ],
   "source": [
    "u, p_valor = mannwhitneyu(transacoes_blog, transacoes_site, alternative='less')\n",
    "print(u)\n",
    "print(p_valor)"
   ]
  },
  {
   "cell_type": "code",
   "execution_count": 62,
   "id": "35861282",
   "metadata": {},
   "outputs": [
    {
     "data": {
      "text/plain": [
       "True"
      ]
     },
     "execution_count": 62,
     "metadata": {},
     "output_type": "execute_result"
    }
   ],
   "source": [
    "p_valor <= significancia"
   ]
  },
  {
   "cell_type": "markdown",
   "id": "40e85a8f",
   "metadata": {},
   "source": [
    "### <font color=green>Testando a variável usuários do blog x receita </font> "
   ]
  },
  {
   "cell_type": "code",
   "execution_count": 63,
   "id": "f871523d",
   "metadata": {},
   "outputs": [
    {
     "name": "stdout",
     "output_type": "stream",
     "text": [
      "0.0\n",
      "2.391204760924378e-225\n"
     ]
    }
   ],
   "source": [
    "u, p_valor = mannwhitneyu(usuarios_blog, receita, alternative='less')\n",
    "print(u)\n",
    "print(p_valor)"
   ]
  },
  {
   "cell_type": "code",
   "execution_count": 64,
   "id": "0ec58ee6",
   "metadata": {},
   "outputs": [
    {
     "data": {
      "text/plain": [
       "True"
      ]
     },
     "execution_count": 64,
     "metadata": {},
     "output_type": "execute_result"
    }
   ],
   "source": [
    "p_valor <= significancia"
   ]
  },
  {
   "cell_type": "markdown",
   "id": "155a1831",
   "metadata": {},
   "source": [
    "### <font color=green>Testando a variável transações do blog x receita </font> "
   ]
  },
  {
   "cell_type": "code",
   "execution_count": 65,
   "id": "3f5e2da0",
   "metadata": {},
   "outputs": [
    {
     "name": "stdout",
     "output_type": "stream",
     "text": [
      "0.0\n",
      "2.391200982478832e-225\n"
     ]
    }
   ],
   "source": [
    "u, p_valor = mannwhitneyu(transacoes_blog, receita, alternative='less')\n",
    "print(u)\n",
    "print(p_valor)"
   ]
  },
  {
   "cell_type": "code",
   "execution_count": 66,
   "id": "d86b180d",
   "metadata": {},
   "outputs": [
    {
     "data": {
      "text/plain": [
       "True"
      ]
     },
     "execution_count": 66,
     "metadata": {},
     "output_type": "execute_result"
    }
   ],
   "source": [
    "p_valor <= significancia"
   ]
  },
  {
   "cell_type": "markdown",
   "id": "05a58229",
   "metadata": {},
   "source": [
    "### <font color='green'>Conclusão: De acordo com os resultados aceitamos hipótese de que existe uma influência do  blog em nossa marca, isto é, concluímos que a média dos usuarios e transaçoes no blog possuem influência sobre nossa receita.</font>"
   ]
  },
  {
   "cell_type": "code",
   "execution_count": null,
   "id": "d098a119",
   "metadata": {},
   "outputs": [],
   "source": []
  }
 ],
 "metadata": {
  "kernelspec": {
   "display_name": "Python 3 (ipykernel)",
   "language": "python",
   "name": "python3"
  },
  "language_info": {
   "codemirror_mode": {
    "name": "ipython",
    "version": 3
   },
   "file_extension": ".py",
   "mimetype": "text/x-python",
   "name": "python",
   "nbconvert_exporter": "python",
   "pygments_lexer": "ipython3",
   "version": "3.9.7"
  }
 },
 "nbformat": 4,
 "nbformat_minor": 5
}
